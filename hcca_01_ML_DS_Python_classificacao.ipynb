{
  "cells": [
    {
      "cell_type": "markdown",
      "metadata": {
        "id": "view-in-github",
        "colab_type": "text"
      },
      "source": [
        "<a href=\"https://colab.research.google.com/github/hiramaralIA/M3_Machine_Learning/blob/main/hcca_01_ML_DS_Python_classificacao.ipynb\" target=\"_parent\"><img src=\"https://colab.research.google.com/assets/colab-badge.svg\" alt=\"Open In Colab\"/></a>"
      ]
    },
    {
      "cell_type": "markdown",
      "metadata": {
        "id": "bdeWF9k0L2YT"
      },
      "source": [
        "# Machine Learning e Data Science com Python (Classificacão) - IA"
      ]
    },
    {
      "cell_type": "markdown",
      "metadata": {
        "id": "hfYbHgghOW5g"
      },
      "source": [
        "# Importação das bibliotecas básicas"
      ]
    },
    {
      "cell_type": "code",
      "execution_count": 25,
      "metadata": {
        "id": "IyRCfZ_fhLef"
      },
      "outputs": [],
      "source": [
        "!pip -q install plotly --upgrade"
      ]
    },
    {
      "cell_type": "code",
      "execution_count": 26,
      "metadata": {
        "id": "WOUlbp8VUhTT"
      },
      "outputs": [],
      "source": [
        "!pip -q install yellowbrick"
      ]
    },
    {
      "cell_type": "code",
      "execution_count": 27,
      "metadata": {
        "id": "nVP1Ah9dhd1F"
      },
      "outputs": [],
      "source": [
        "import pandas as pd\n",
        "import numpy as np\n",
        "import seaborn as sns\n",
        "import matplotlib.pyplot as plt\n",
        "import plotly.express as px"
      ]
    },
    {
      "cell_type": "markdown",
      "metadata": {
        "id": "d4GPkpRVTfq4"
      },
      "source": [
        "# Base de dados de crédito\n",
        "\n",
        "- Fonte (adaptado): https://www.kaggle.com/laotse/credit-risk-dataset"
      ]
    },
    {
      "cell_type": "code",
      "execution_count": 32,
      "metadata": {
        "colab": {
          "base_uri": "https://localhost:8080/"
        },
        "id": "2ikfKSdGINxr",
        "outputId": "bad915a9-86b0-4917-ab79-f05e16033fff"
      },
      "outputs": [
        {
          "output_type": "stream",
          "name": "stdout",
          "text": [
            "Drive already mounted at /content/drive; to attempt to forcibly remount, call drive.mount(\"/content/drive\", force_remount=True).\n"
          ]
        }
      ],
      "source": [
        "from google.colab import drive\n",
        "drive.mount('/content/drive')"
      ]
    },
    {
      "cell_type": "markdown",
      "metadata": {
        "id": "oCVRZFuyXPR9"
      },
      "source": [
        "### Exploração dos dados"
      ]
    },
    {
      "cell_type": "code",
      "execution_count": 33,
      "metadata": {
        "id": "3PkyBwG_jPVQ"
      },
      "outputs": [],
      "source": [
        "base_credit = pd.read_csv('/content/credit_data.csv')"
      ]
    },
    {
      "cell_type": "code",
      "source": [
        ""
      ],
      "metadata": {
        "id": "jxWhIffD-uey"
      },
      "execution_count": null,
      "outputs": []
    },
    {
      "cell_type": "markdown",
      "metadata": {
        "id": "x23iAAKsQ-iU"
      },
      "source": [
        "### Visualização dos dados"
      ]
    },
    {
      "cell_type": "code",
      "source": [
        ""
      ],
      "metadata": {
        "id": "CeqNeLD9-5ft"
      },
      "execution_count": null,
      "outputs": []
    },
    {
      "cell_type": "markdown",
      "metadata": {
        "id": "9JL8G9jQXTLF"
      },
      "source": [
        "### Tratamento de valores inconsistentes"
      ]
    },
    {
      "cell_type": "code",
      "source": [
        ""
      ],
      "metadata": {
        "id": "QhaJHzaD-406"
      },
      "execution_count": null,
      "outputs": []
    },
    {
      "cell_type": "markdown",
      "metadata": {
        "id": "JpDM1Er1obkO"
      },
      "source": [
        "### Tratamento de valores faltantes"
      ]
    },
    {
      "cell_type": "code",
      "execution_count": null,
      "metadata": {
        "id": "-lch6VMX_esr"
      },
      "outputs": [],
      "source": [
        "base_credit.isnull()"
      ]
    },
    {
      "cell_type": "markdown",
      "metadata": {
        "id": "cOSLRdDEsWFx"
      },
      "source": [
        "### Divisão entre previsores e classe"
      ]
    },
    {
      "cell_type": "code",
      "source": [
        ""
      ],
      "metadata": {
        "id": "TpsTBzBg_JjI"
      },
      "execution_count": null,
      "outputs": []
    },
    {
      "cell_type": "markdown",
      "metadata": {
        "id": "S_jbxLwqu4fQ"
      },
      "source": [
        "### Escalonamento dos valores"
      ]
    },
    {
      "cell_type": "code",
      "source": [
        ""
      ],
      "metadata": {
        "id": "ljK8dVNZ_OJ8"
      },
      "execution_count": null,
      "outputs": []
    },
    {
      "cell_type": "markdown",
      "metadata": {
        "id": "uObPYCYDkBAV"
      },
      "source": [
        "# Base de dados do censo\n",
        "\n",
        "- Fonte: https://archive.ics.uci.edu/ml/datasets/adult"
      ]
    },
    {
      "cell_type": "code",
      "source": [
        ""
      ],
      "metadata": {
        "id": "ONjpi5EsCX_Y"
      },
      "execution_count": null,
      "outputs": []
    },
    {
      "cell_type": "markdown",
      "metadata": {
        "id": "g-23aN-nkDQ7"
      },
      "source": [
        "## Exploração dos dados"
      ]
    },
    {
      "cell_type": "code",
      "source": [
        ""
      ],
      "metadata": {
        "id": "tRBp5_L1_Vu9"
      },
      "execution_count": null,
      "outputs": []
    },
    {
      "cell_type": "markdown",
      "metadata": {
        "id": "zr9S1fZXRQhg"
      },
      "source": [
        "## Visualização dos dados"
      ]
    },
    {
      "cell_type": "code",
      "source": [
        ""
      ],
      "metadata": {
        "id": "BJ_zYlYR_WV6"
      },
      "execution_count": null,
      "outputs": []
    },
    {
      "cell_type": "markdown",
      "metadata": {
        "id": "2GpcvTQauTVx"
      },
      "source": [
        "## Divisão entre previsores e classe"
      ]
    },
    {
      "cell_type": "code",
      "source": [
        ""
      ],
      "metadata": {
        "id": "9_KVzQuHCW4X"
      },
      "execution_count": null,
      "outputs": []
    },
    {
      "cell_type": "markdown",
      "metadata": {
        "id": "QGapZ37jkPAn"
      },
      "source": [
        "## Tratamento de atributos categóricos"
      ]
    },
    {
      "cell_type": "code",
      "source": [
        ""
      ],
      "metadata": {
        "id": "IbKkkO8pCVEq"
      },
      "execution_count": null,
      "outputs": []
    },
    {
      "cell_type": "markdown",
      "metadata": {
        "id": "K2K3Wu8Q4e0E"
      },
      "source": [
        "### LabelEncoder"
      ]
    },
    {
      "cell_type": "code",
      "source": [
        ""
      ],
      "metadata": {
        "id": "8vPpcwMKCUk_"
      },
      "execution_count": null,
      "outputs": []
    },
    {
      "cell_type": "markdown",
      "metadata": {
        "id": "mHg2BXJR4hpi"
      },
      "source": [
        "### OneHotEncoder"
      ]
    },
    {
      "cell_type": "code",
      "source": [
        ""
      ],
      "metadata": {
        "id": "RFo3JHVzCTs7"
      },
      "execution_count": null,
      "outputs": []
    },
    {
      "cell_type": "markdown",
      "metadata": {
        "id": "bdNbsNLFkWop"
      },
      "source": [
        "## Escalonamento dos valores"
      ]
    },
    {
      "cell_type": "code",
      "execution_count": null,
      "metadata": {
        "id": "t58D0fU_c9_4"
      },
      "outputs": [],
      "source": [
        "from sklearn.preprocessing import StandardScaler\n",
        "scaler_census = StandardScaler()\n",
        "X_census = scaler_census.fit_transform(X_census)"
      ]
    },
    {
      "cell_type": "code",
      "execution_count": null,
      "metadata": {
        "id": "S8zI8mHJdZ1L"
      },
      "outputs": [],
      "source": [
        "X_census[0]"
      ]
    },
    {
      "cell_type": "markdown",
      "metadata": {
        "id": "NBXkHsxg6tcI"
      },
      "source": [
        "# Divisão das bases em treinamento e teste"
      ]
    },
    {
      "cell_type": "code",
      "source": [
        ""
      ],
      "metadata": {
        "id": "BAjdzwPrCQNu"
      },
      "execution_count": null,
      "outputs": []
    },
    {
      "cell_type": "markdown",
      "metadata": {
        "id": "q_KOjDv47-IV"
      },
      "source": [
        "## Credit data"
      ]
    },
    {
      "cell_type": "code",
      "execution_count": null,
      "metadata": {
        "id": "YglWGPdjeXb1"
      },
      "outputs": [],
      "source": [
        "X_credit_treinamento, X_credit_teste, y_credit_treinamento, y_credit_teste = train_test_split(X_credit, y_credit, test_size = 0.25, random_state = 0)"
      ]
    },
    {
      "cell_type": "code",
      "execution_count": null,
      "metadata": {
        "id": "OcUWH-xTfAC3"
      },
      "outputs": [],
      "source": [
        "X_credit_treinamento.shape"
      ]
    },
    {
      "cell_type": "code",
      "execution_count": null,
      "metadata": {
        "id": "7v1NiPemfL4g"
      },
      "outputs": [],
      "source": [
        "y_credit_treinamento.shape"
      ]
    },
    {
      "cell_type": "code",
      "execution_count": null,
      "metadata": {
        "id": "iuf-gKIvfR2f"
      },
      "outputs": [],
      "source": [
        "X_credit_teste.shape, y_credit_teste.shape"
      ]
    },
    {
      "cell_type": "markdown",
      "metadata": {
        "id": "zAecbXOi8AzA"
      },
      "source": [
        "## Census"
      ]
    },
    {
      "cell_type": "code",
      "source": [
        ""
      ],
      "metadata": {
        "id": "8j1PuXYh_qDV"
      },
      "execution_count": null,
      "outputs": []
    },
    {
      "cell_type": "markdown",
      "metadata": {
        "id": "Oi9qbert8aMv"
      },
      "source": [
        "## Salvar as variáveis"
      ]
    },
    {
      "cell_type": "code",
      "source": [
        ""
      ],
      "metadata": {
        "id": "PGwGRnRN_rsE"
      },
      "execution_count": null,
      "outputs": []
    },
    {
      "cell_type": "markdown",
      "source": [
        ""
      ],
      "metadata": {
        "id": "gOEt8l-h_oad"
      }
    },
    {
      "cell_type": "code",
      "source": [
        ""
      ],
      "metadata": {
        "id": "x-cr1j0__kxE"
      },
      "execution_count": null,
      "outputs": []
    },
    {
      "cell_type": "markdown",
      "metadata": {
        "id": "zX-Vgf6TnLnc"
      },
      "source": [
        "# Naïve Bayes"
      ]
    },
    {
      "cell_type": "code",
      "source": [
        ""
      ],
      "metadata": {
        "id": "WDgdcpCR_iiG"
      },
      "execution_count": null,
      "outputs": []
    },
    {
      "cell_type": "markdown",
      "metadata": {
        "id": "L0FGtQLrnN-0"
      },
      "source": [
        "## Base risco de crédito"
      ]
    },
    {
      "cell_type": "code",
      "source": [
        ""
      ],
      "metadata": {
        "id": "BAfzMR5j_y8b"
      },
      "execution_count": null,
      "outputs": []
    },
    {
      "cell_type": "markdown",
      "metadata": {
        "id": "lmXN77tcnP2v"
      },
      "source": [
        "## Base credit data - 93.80%"
      ]
    },
    {
      "cell_type": "code",
      "source": [
        ""
      ],
      "metadata": {
        "id": "alicpJu9_0nM"
      },
      "execution_count": null,
      "outputs": []
    },
    {
      "cell_type": "markdown",
      "metadata": {
        "id": "lnC-s4bLnRmt"
      },
      "source": [
        "## Base census - 47.67%"
      ]
    },
    {
      "cell_type": "code",
      "source": [
        ""
      ],
      "metadata": {
        "id": "Pg95oJk2_7VE"
      },
      "execution_count": null,
      "outputs": []
    },
    {
      "cell_type": "markdown",
      "metadata": {
        "id": "DjUu9ktyU4__"
      },
      "source": [
        "# Árvores de decisão"
      ]
    },
    {
      "cell_type": "code",
      "source": [
        ""
      ],
      "metadata": {
        "id": "-lvQgKAu_8qw"
      },
      "execution_count": null,
      "outputs": []
    },
    {
      "cell_type": "markdown",
      "metadata": {
        "id": "PfnUWv8SU7ST"
      },
      "source": [
        "## Base risco de crédito"
      ]
    },
    {
      "cell_type": "code",
      "source": [
        ""
      ],
      "metadata": {
        "id": "ohYUdZiIABU1"
      },
      "execution_count": null,
      "outputs": []
    },
    {
      "cell_type": "markdown",
      "metadata": {
        "id": "TOCiDpHFU90w"
      },
      "source": [
        "## Base credit data - 98.20%"
      ]
    },
    {
      "cell_type": "code",
      "source": [
        ""
      ],
      "metadata": {
        "id": "ezWApMUZAFE4"
      },
      "execution_count": null,
      "outputs": []
    },
    {
      "cell_type": "markdown",
      "metadata": {
        "id": "sISIfqL0U_ss"
      },
      "source": [
        "## Base census - 81.04%"
      ]
    },
    {
      "cell_type": "code",
      "source": [
        ""
      ],
      "metadata": {
        "id": "jODsOcIaAIb8"
      },
      "execution_count": null,
      "outputs": []
    },
    {
      "cell_type": "markdown",
      "metadata": {
        "id": "BOPQLz28jDi7"
      },
      "source": [
        "# Random Forest"
      ]
    },
    {
      "cell_type": "markdown",
      "metadata": {
        "id": "ZO-c0InojFK5"
      },
      "source": [
        "## Base credit data - 98.40%"
      ]
    },
    {
      "cell_type": "code",
      "source": [
        ""
      ],
      "metadata": {
        "id": "bKbEH88jAOqA"
      },
      "execution_count": null,
      "outputs": []
    },
    {
      "cell_type": "markdown",
      "metadata": {
        "id": "0bLyVMFrjGzm"
      },
      "source": [
        "## Base census - 85.07%"
      ]
    },
    {
      "cell_type": "code",
      "source": [
        ""
      ],
      "metadata": {
        "id": "vt7EooCTAPjB"
      },
      "execution_count": null,
      "outputs": []
    },
    {
      "cell_type": "markdown",
      "metadata": {
        "id": "h8ZVuJ-VDE8h"
      },
      "source": [
        "# Regras"
      ]
    },
    {
      "cell_type": "code",
      "source": [
        ""
      ],
      "metadata": {
        "id": "sqS9sUA_AUg3"
      },
      "execution_count": null,
      "outputs": []
    },
    {
      "cell_type": "markdown",
      "metadata": {
        "id": "4gUvxQ_wDGt4"
      },
      "source": [
        "## Base risco de crédito"
      ]
    },
    {
      "cell_type": "code",
      "source": [
        ""
      ],
      "metadata": {
        "id": "qhA67Kp7AcqJ"
      },
      "execution_count": null,
      "outputs": []
    },
    {
      "cell_type": "markdown",
      "metadata": {
        "id": "SN9q4qQiDIsi"
      },
      "source": [
        "## Base credit data - 97.40%"
      ]
    },
    {
      "cell_type": "code",
      "source": [
        ""
      ],
      "metadata": {
        "id": "PYfSJtC1AfA-"
      },
      "execution_count": null,
      "outputs": []
    },
    {
      "cell_type": "markdown",
      "metadata": {
        "id": "E2S9lDBTDKE6"
      },
      "source": [
        "## Base census - 78.90% (executado na interface gráfica do Orange)"
      ]
    },
    {
      "cell_type": "code",
      "source": [
        ""
      ],
      "metadata": {
        "id": "0EFhEBOOAgml"
      },
      "execution_count": null,
      "outputs": []
    },
    {
      "cell_type": "markdown",
      "metadata": {
        "id": "0v5iHxzcNPNK"
      },
      "source": [
        "# Classificador base - Majority learner"
      ]
    },
    {
      "cell_type": "code",
      "source": [
        ""
      ],
      "metadata": {
        "id": "kjOBwQv0AlK5"
      },
      "execution_count": null,
      "outputs": []
    },
    {
      "cell_type": "markdown",
      "metadata": {
        "id": "TWW4JhkLNS0t"
      },
      "source": [
        "## Base credit data - 85.85%"
      ]
    },
    {
      "cell_type": "code",
      "source": [
        ""
      ],
      "metadata": {
        "id": "v7Wam0bbAlyG"
      },
      "execution_count": null,
      "outputs": []
    },
    {
      "cell_type": "markdown",
      "metadata": {
        "id": "e6tDYDLUNUWH"
      },
      "source": [
        "## Base census - 75.91%"
      ]
    },
    {
      "cell_type": "code",
      "source": [
        ""
      ],
      "metadata": {
        "id": "MooYW0SQAqO0"
      },
      "execution_count": null,
      "outputs": []
    },
    {
      "cell_type": "markdown",
      "metadata": {
        "id": "_lPLnCYVTQGk"
      },
      "source": [
        "# Aprendizagem baseada em instâncias - knn"
      ]
    },
    {
      "cell_type": "code",
      "source": [
        ""
      ],
      "metadata": {
        "id": "Z_QHPwo4ArTG"
      },
      "execution_count": null,
      "outputs": []
    },
    {
      "cell_type": "markdown",
      "metadata": {
        "id": "oVZ33-HhTUcV"
      },
      "source": [
        "## Base credit data - 98.60%"
      ]
    },
    {
      "cell_type": "code",
      "source": [
        ""
      ],
      "metadata": {
        "id": "ARZ4q68JAtWL"
      },
      "execution_count": null,
      "outputs": []
    },
    {
      "cell_type": "markdown",
      "metadata": {
        "id": "y5tg1RPDTWPu"
      },
      "source": [
        "## Base census - 82.90%"
      ]
    },
    {
      "cell_type": "code",
      "source": [
        ""
      ],
      "metadata": {
        "id": "F69Z4gzmAxXJ"
      },
      "execution_count": null,
      "outputs": []
    },
    {
      "cell_type": "markdown",
      "metadata": {
        "id": "7q-aePyAQIcY"
      },
      "source": [
        "# Regressão logística"
      ]
    },
    {
      "cell_type": "code",
      "source": [
        ""
      ],
      "metadata": {
        "id": "XWWyFszxAz-z"
      },
      "execution_count": null,
      "outputs": []
    },
    {
      "cell_type": "markdown",
      "metadata": {
        "id": "wfNpnNK8QKut"
      },
      "source": [
        "## Base risco de crédito"
      ]
    },
    {
      "cell_type": "code",
      "source": [
        ""
      ],
      "metadata": {
        "id": "WothvS0VA75h"
      },
      "execution_count": null,
      "outputs": []
    },
    {
      "cell_type": "markdown",
      "metadata": {
        "id": "v4BNXREgQM5G"
      },
      "source": [
        "## Base credit data - 94.60%"
      ]
    },
    {
      "cell_type": "code",
      "source": [
        ""
      ],
      "metadata": {
        "id": "XmBa9m_DBADN"
      },
      "execution_count": null,
      "outputs": []
    },
    {
      "cell_type": "markdown",
      "metadata": {
        "id": "HsYao96MQOd0"
      },
      "source": [
        "## Base census - 84.95%"
      ]
    },
    {
      "cell_type": "code",
      "source": [
        ""
      ],
      "metadata": {
        "id": "9lvI68KlBCOb"
      },
      "execution_count": null,
      "outputs": []
    },
    {
      "cell_type": "markdown",
      "metadata": {
        "id": "IMKqPBZ0ZXHc"
      },
      "source": [
        "# SVM"
      ]
    },
    {
      "cell_type": "code",
      "source": [
        ""
      ],
      "metadata": {
        "id": "er1B0LixCMGr"
      },
      "execution_count": null,
      "outputs": []
    },
    {
      "cell_type": "markdown",
      "metadata": {
        "id": "_l47QkKfZYYX"
      },
      "source": [
        "## Base credit data - 98.80%"
      ]
    },
    {
      "cell_type": "code",
      "source": [
        ""
      ],
      "metadata": {
        "id": "OAlZdUyCBEYr"
      },
      "execution_count": null,
      "outputs": []
    },
    {
      "cell_type": "markdown",
      "metadata": {
        "id": "IDcs56b6ZZ-o"
      },
      "source": [
        "## Base census - 85.07%"
      ]
    },
    {
      "cell_type": "code",
      "source": [
        ""
      ],
      "metadata": {
        "id": "m9UbzIH5BGXr"
      },
      "execution_count": null,
      "outputs": []
    },
    {
      "cell_type": "markdown",
      "metadata": {
        "id": "fSNUSSeOhqAd"
      },
      "source": [
        "# Redes neurais artificiais"
      ]
    },
    {
      "cell_type": "code",
      "source": [
        ""
      ],
      "metadata": {
        "id": "dqJDvhQbBJOj"
      },
      "execution_count": null,
      "outputs": []
    },
    {
      "cell_type": "markdown",
      "metadata": {
        "id": "foQGPam1hrwG"
      },
      "source": [
        "## Base credit data - 99.80%"
      ]
    },
    {
      "cell_type": "code",
      "source": [
        ""
      ],
      "metadata": {
        "id": "iieTmIRYBLSk"
      },
      "execution_count": null,
      "outputs": []
    },
    {
      "cell_type": "markdown",
      "metadata": {
        "id": "wBeiHfvihtMZ"
      },
      "source": [
        "## Base census - 81.53%"
      ]
    },
    {
      "cell_type": "code",
      "source": [
        ""
      ],
      "metadata": {
        "id": "nuJo3ol8BOlq"
      },
      "execution_count": null,
      "outputs": []
    },
    {
      "cell_type": "markdown",
      "metadata": {
        "id": "hzQjXv11xXiV"
      },
      "source": [
        "# Avaliação dos algoritmos\n",
        "\n",
        "- Naïve Bayes: 93.80\n",
        "- Árvore de decisão: 98.20\n",
        "- Random forest: 98.40\n",
        "- Regras: 97.40\n",
        "- Knn: 98.60\n",
        "- Regressão logística: 94.60\n",
        "- SVM: 98.80\n",
        "- Redes neurais: 99.60"
      ]
    },
    {
      "cell_type": "markdown",
      "metadata": {
        "id": "xZ7xQAHIxbYS"
      },
      "source": [
        "## Tuning dos parâmetros com GridSearch"
      ]
    },
    {
      "cell_type": "code",
      "source": [
        ""
      ],
      "metadata": {
        "id": "K307WuKxBRmj"
      },
      "execution_count": null,
      "outputs": []
    },
    {
      "cell_type": "markdown",
      "metadata": {
        "id": "ccUPFWrYxemd"
      },
      "source": [
        "### Preparação dos dados"
      ]
    },
    {
      "cell_type": "code",
      "source": [
        ""
      ],
      "metadata": {
        "id": "XKJ99KjjBTwj"
      },
      "execution_count": null,
      "outputs": []
    },
    {
      "cell_type": "markdown",
      "metadata": {
        "id": "TEC2nX_Bxgxb"
      },
      "source": [
        "### Árvore de decisão"
      ]
    },
    {
      "cell_type": "code",
      "source": [
        ""
      ],
      "metadata": {
        "id": "Z0EB1X_wBWQN"
      },
      "execution_count": null,
      "outputs": []
    },
    {
      "cell_type": "markdown",
      "metadata": {
        "id": "iDFqhYqqxi0a"
      },
      "source": [
        "### Random forest"
      ]
    },
    {
      "cell_type": "code",
      "source": [
        ""
      ],
      "metadata": {
        "id": "C4QN0f56BXmQ"
      },
      "execution_count": null,
      "outputs": []
    },
    {
      "cell_type": "markdown",
      "metadata": {
        "id": "V2ukErzdxkYV"
      },
      "source": [
        "### Knn"
      ]
    },
    {
      "cell_type": "code",
      "source": [
        ""
      ],
      "metadata": {
        "id": "2eNDY7yFBcoR"
      },
      "execution_count": null,
      "outputs": []
    },
    {
      "cell_type": "markdown",
      "metadata": {
        "id": "Sg1nw3UtxleM"
      },
      "source": [
        "### Regressão logística"
      ]
    },
    {
      "cell_type": "code",
      "source": [
        ""
      ],
      "metadata": {
        "id": "p9kjnxuiBbgT"
      },
      "execution_count": null,
      "outputs": []
    },
    {
      "cell_type": "markdown",
      "metadata": {
        "id": "Y25eVjAqCtUh"
      },
      "source": [
        "### SVM"
      ]
    },
    {
      "cell_type": "code",
      "source": [
        ""
      ],
      "metadata": {
        "id": "wsnADctIBeZ9"
      },
      "execution_count": null,
      "outputs": []
    },
    {
      "cell_type": "markdown",
      "metadata": {
        "id": "iQZ2TUjHxn3V"
      },
      "source": [
        "### Redes neurais"
      ]
    },
    {
      "cell_type": "code",
      "source": [
        ""
      ],
      "metadata": {
        "id": "zSgfPUyDBhvk"
      },
      "execution_count": null,
      "outputs": []
    },
    {
      "cell_type": "markdown",
      "metadata": {
        "id": "cNZmpXyaxpsE"
      },
      "source": [
        "## Validação cruzada"
      ]
    },
    {
      "cell_type": "code",
      "source": [
        ""
      ],
      "metadata": {
        "id": "3LV-apbaBkbR"
      },
      "execution_count": null,
      "outputs": []
    },
    {
      "cell_type": "markdown",
      "metadata": {
        "id": "64STDoeYxrx8"
      },
      "source": [
        "## Teste de normalidade nos resultados\n",
        "\n",
        "- Shapiro: https://en.wikipedia.org/wiki/Shapiro%E2%80%93Wilk_test"
      ]
    },
    {
      "cell_type": "code",
      "source": [
        ""
      ],
      "metadata": {
        "id": "E1uOoLOaBo0e"
      },
      "execution_count": null,
      "outputs": []
    },
    {
      "cell_type": "markdown",
      "metadata": {
        "id": "YKu3nItjxuy-"
      },
      "source": [
        "## Teste de hipótese com ANOVA e Tukey"
      ]
    },
    {
      "cell_type": "code",
      "source": [
        ""
      ],
      "metadata": {
        "id": "E3zIVW2MBq2b"
      },
      "execution_count": null,
      "outputs": []
    },
    {
      "cell_type": "markdown",
      "metadata": {
        "id": "wo_FnyqZdSHP"
      },
      "source": [
        "# Salvar um classificador já treinado"
      ]
    },
    {
      "cell_type": "code",
      "source": [
        ""
      ],
      "metadata": {
        "id": "HgWCJEleBs_w"
      },
      "execution_count": null,
      "outputs": []
    },
    {
      "cell_type": "markdown",
      "metadata": {
        "id": "IE2LDIuAdVf2"
      },
      "source": [
        "# Carregar um classificador já treinado"
      ]
    },
    {
      "cell_type": "code",
      "source": [
        ""
      ],
      "metadata": {
        "id": "sVwbZvwKBvEV"
      },
      "execution_count": null,
      "outputs": []
    },
    {
      "cell_type": "markdown",
      "metadata": {
        "id": "D8SRPAsJmEs3"
      },
      "source": [
        "# Combinação de classificadores"
      ]
    },
    {
      "cell_type": "code",
      "source": [
        ""
      ],
      "metadata": {
        "id": "ZaVC4m2rBxPA"
      },
      "execution_count": null,
      "outputs": []
    },
    {
      "cell_type": "markdown",
      "metadata": {
        "id": "P3OWvpIvmIDH"
      },
      "source": [
        "# Rejeição de classificadores"
      ]
    },
    {
      "cell_type": "code",
      "source": [
        ""
      ],
      "metadata": {
        "id": "RCjwJqAZBzkz"
      },
      "execution_count": null,
      "outputs": []
    },
    {
      "cell_type": "markdown",
      "metadata": {
        "id": "b0PwlVawUlYk"
      },
      "source": [
        "# Redução de dimensionalidade"
      ]
    },
    {
      "cell_type": "code",
      "source": [
        ""
      ],
      "metadata": {
        "id": "awQKjW6NB2Tw"
      },
      "execution_count": null,
      "outputs": []
    },
    {
      "cell_type": "markdown",
      "metadata": {
        "id": "5B4KH9_YVrmQ"
      },
      "source": [
        "## Preparacão da base de dados"
      ]
    },
    {
      "cell_type": "code",
      "source": [
        ""
      ],
      "metadata": {
        "id": "N-f3EO8dB5Qv"
      },
      "execution_count": null,
      "outputs": []
    },
    {
      "cell_type": "markdown",
      "metadata": {
        "id": "6OurC4GyUoak"
      },
      "source": [
        "## PCA (Principal component analysis)"
      ]
    },
    {
      "cell_type": "code",
      "source": [
        ""
      ],
      "metadata": {
        "id": "6e6vr8yXB7EC"
      },
      "execution_count": null,
      "outputs": []
    },
    {
      "cell_type": "markdown",
      "metadata": {
        "id": "2UhdSgBmUtJ6"
      },
      "source": [
        "## Kernel PCA"
      ]
    },
    {
      "cell_type": "code",
      "source": [
        ""
      ],
      "metadata": {
        "id": "b78e43fjB-YC"
      },
      "execution_count": null,
      "outputs": []
    },
    {
      "cell_type": "markdown",
      "metadata": {
        "id": "EGBZZwK2UyK7"
      },
      "source": [
        "## LDA (Linear discriminant analysis)"
      ]
    },
    {
      "cell_type": "code",
      "source": [
        ""
      ],
      "metadata": {
        "id": "nAB3p2RdB_5A"
      },
      "execution_count": null,
      "outputs": []
    },
    {
      "cell_type": "markdown",
      "metadata": {
        "id": "lAN9s6MVGCcV"
      },
      "source": [
        "# Detecção de outliers"
      ]
    },
    {
      "cell_type": "code",
      "source": [
        ""
      ],
      "metadata": {
        "id": "h8mrdgmuCAMi"
      },
      "execution_count": null,
      "outputs": []
    },
    {
      "cell_type": "markdown",
      "metadata": {
        "id": "N7LsjcpzGFpq"
      },
      "source": [
        "## Boxplot"
      ]
    },
    {
      "cell_type": "code",
      "source": [
        ""
      ],
      "metadata": {
        "id": "9Pd_5FhWCDha"
      },
      "execution_count": null,
      "outputs": []
    },
    {
      "cell_type": "markdown",
      "metadata": {
        "id": "PM7UI73tGHjP"
      },
      "source": [
        "## Gráfico de dispersão"
      ]
    },
    {
      "cell_type": "code",
      "source": [
        ""
      ],
      "metadata": {
        "id": "i_zyyCn4CF5S"
      },
      "execution_count": null,
      "outputs": []
    },
    {
      "cell_type": "markdown",
      "metadata": {
        "id": "wsy_nrrGGKu9"
      },
      "source": [
        "## Biblioteca PyOD\n",
        "\n",
        "- Documentação: https://pyod.readthedocs.io/en/latest/#"
      ]
    }
  ],
  "metadata": {
    "colab": {
      "collapsed_sections": [
        "9JL8G9jQXTLF",
        "JpDM1Er1obkO",
        "cOSLRdDEsWFx",
        "S_jbxLwqu4fQ",
        "g-23aN-nkDQ7",
        "zr9S1fZXRQhg",
        "2GpcvTQauTVx",
        "QGapZ37jkPAn",
        "K2K3Wu8Q4e0E",
        "mHg2BXJR4hpi",
        "bdNbsNLFkWop",
        "q_KOjDv47-IV",
        "zAecbXOi8AzA",
        "Oi9qbert8aMv",
        "L0FGtQLrnN-0",
        "lmXN77tcnP2v",
        "lnC-s4bLnRmt",
        "PfnUWv8SU7ST",
        "TOCiDpHFU90w",
        "ZO-c0InojFK5",
        "0bLyVMFrjGzm",
        "h8ZVuJ-VDE8h",
        "SN9q4qQiDIsi",
        "0v5iHxzcNPNK",
        "e6tDYDLUNUWH"
      ],
      "name": "hcca_01_ML_DS_Python_classificacao.ipynb",
      "provenance": [],
      "include_colab_link": true
    },
    "kernelspec": {
      "display_name": "Python 3",
      "name": "python3"
    },
    "language_info": {
      "name": "python"
    }
  },
  "nbformat": 4,
  "nbformat_minor": 0
}