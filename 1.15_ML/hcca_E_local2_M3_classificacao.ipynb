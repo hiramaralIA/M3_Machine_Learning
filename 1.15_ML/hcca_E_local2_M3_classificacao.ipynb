{
 "cells": [
  {
   "cell_type": "markdown",
   "metadata": {
    "colab_type": "text",
    "id": "view-in-github"
   },
   "source": [
    "<a href=\"https://colab.research.google.com/github/hiramaralIA/M3_Machine_Learning/blob/main/hcca_01_ML_DS_Python_classificacao.ipynb\" target=\"_parent\"><img src=\"https://colab.research.google.com/assets/colab-badge.svg\" alt=\"Open In Colab\"/></a>"
   ]
  },
  {
   "cell_type": "markdown",
   "metadata": {
    "id": "bdeWF9k0L2YT"
   },
   "source": [
    "# Machine Learning e Data Science com Python (Classificacão)"
   ]
  },
  {
   "cell_type": "markdown",
   "metadata": {
    "id": "hfYbHgghOW5g"
   },
   "source": [
    "# Importação das bibliotecas básicas"
   ]
  },
  {
   "cell_type": "code",
   "execution_count": 1,
   "metadata": {
    "colab": {
     "base_uri": "https://localhost:8080/"
    },
    "id": "IyRCfZ_fhLef",
    "outputId": "6a413e23-6aeb-4e13-ecf1-3d231f0cbfc1"
   },
   "outputs": [],
   "source": [
    "!pip -q install plotly --upgrade"
   ]
  },
  {
   "cell_type": "code",
   "execution_count": 7,
   "metadata": {
    "id": "WOUlbp8VUhTT"
   },
   "outputs": [],
   "source": [
    "#pip -q install yellowbrick"
   ]
  },
  {
   "cell_type": "code",
   "execution_count": 2,
   "metadata": {
    "id": "nVP1Ah9dhd1F"
   },
   "outputs": [],
   "source": [
    "import pandas as pd\n",
    "import numpy as np\n",
    "import seaborn as sns\n",
    "import matplotlib.pyplot as plt\n",
    "import plotly.express as px"
   ]
  },
  {
   "cell_type": "markdown",
   "metadata": {
    "id": "d4GPkpRVTfq4"
   },
   "source": [
    "# Base de dados de crédito\n",
    "\n",
    "- Fonte (adaptado): https://www.kaggle.com/laotse/credit-risk-dataset"
   ]
  },
  {
   "cell_type": "markdown",
   "metadata": {
    "id": "oCVRZFuyXPR9"
   },
   "source": [
    "### Exploração dos dados"
   ]
  },
  {
   "cell_type": "code",
   "execution_count": 3,
   "metadata": {},
   "outputs": [],
   "source": [
    "base_credit = pd.read_csv('credit_data.csv')"
   ]
  },
  {
   "cell_type": "code",
   "execution_count": 4,
   "metadata": {},
   "outputs": [
    {
     "data": {
      "text/html": [
       "<div>\n",
       "<style scoped>\n",
       "    .dataframe tbody tr th:only-of-type {\n",
       "        vertical-align: middle;\n",
       "    }\n",
       "\n",
       "    .dataframe tbody tr th {\n",
       "        vertical-align: top;\n",
       "    }\n",
       "\n",
       "    .dataframe thead th {\n",
       "        text-align: right;\n",
       "    }\n",
       "</style>\n",
       "<table border=\"1\" class=\"dataframe\">\n",
       "  <thead>\n",
       "    <tr style=\"text-align: right;\">\n",
       "      <th></th>\n",
       "      <th>clientid</th>\n",
       "      <th>income</th>\n",
       "      <th>age</th>\n",
       "      <th>loan</th>\n",
       "      <th>default</th>\n",
       "    </tr>\n",
       "  </thead>\n",
       "  <tbody>\n",
       "    <tr>\n",
       "      <th>0</th>\n",
       "      <td>1</td>\n",
       "      <td>66155.925095</td>\n",
       "      <td>59.017015</td>\n",
       "      <td>8106.532131</td>\n",
       "      <td>0</td>\n",
       "    </tr>\n",
       "    <tr>\n",
       "      <th>1</th>\n",
       "      <td>2</td>\n",
       "      <td>34415.153966</td>\n",
       "      <td>48.117153</td>\n",
       "      <td>6564.745018</td>\n",
       "      <td>0</td>\n",
       "    </tr>\n",
       "    <tr>\n",
       "      <th>2</th>\n",
       "      <td>3</td>\n",
       "      <td>57317.170063</td>\n",
       "      <td>63.108049</td>\n",
       "      <td>8020.953296</td>\n",
       "      <td>0</td>\n",
       "    </tr>\n",
       "    <tr>\n",
       "      <th>3</th>\n",
       "      <td>4</td>\n",
       "      <td>42709.534201</td>\n",
       "      <td>45.751972</td>\n",
       "      <td>6103.642260</td>\n",
       "      <td>0</td>\n",
       "    </tr>\n",
       "    <tr>\n",
       "      <th>4</th>\n",
       "      <td>5</td>\n",
       "      <td>66952.688845</td>\n",
       "      <td>18.584336</td>\n",
       "      <td>8770.099235</td>\n",
       "      <td>1</td>\n",
       "    </tr>\n",
       "    <tr>\n",
       "      <th>...</th>\n",
       "      <td>...</td>\n",
       "      <td>...</td>\n",
       "      <td>...</td>\n",
       "      <td>...</td>\n",
       "      <td>...</td>\n",
       "    </tr>\n",
       "    <tr>\n",
       "      <th>1995</th>\n",
       "      <td>1996</td>\n",
       "      <td>59221.044874</td>\n",
       "      <td>48.518179</td>\n",
       "      <td>1926.729397</td>\n",
       "      <td>0</td>\n",
       "    </tr>\n",
       "    <tr>\n",
       "      <th>1996</th>\n",
       "      <td>1997</td>\n",
       "      <td>69516.127573</td>\n",
       "      <td>23.162104</td>\n",
       "      <td>3503.176156</td>\n",
       "      <td>0</td>\n",
       "    </tr>\n",
       "    <tr>\n",
       "      <th>1997</th>\n",
       "      <td>1998</td>\n",
       "      <td>44311.449262</td>\n",
       "      <td>28.017167</td>\n",
       "      <td>5522.786693</td>\n",
       "      <td>1</td>\n",
       "    </tr>\n",
       "    <tr>\n",
       "      <th>1998</th>\n",
       "      <td>1999</td>\n",
       "      <td>43756.056605</td>\n",
       "      <td>63.971796</td>\n",
       "      <td>1622.722598</td>\n",
       "      <td>0</td>\n",
       "    </tr>\n",
       "    <tr>\n",
       "      <th>1999</th>\n",
       "      <td>2000</td>\n",
       "      <td>69436.579552</td>\n",
       "      <td>56.152617</td>\n",
       "      <td>7378.833599</td>\n",
       "      <td>0</td>\n",
       "    </tr>\n",
       "  </tbody>\n",
       "</table>\n",
       "<p>2000 rows × 5 columns</p>\n",
       "</div>"
      ],
      "text/plain": [
       "      clientid        income        age         loan  default\n",
       "0            1  66155.925095  59.017015  8106.532131        0\n",
       "1            2  34415.153966  48.117153  6564.745018        0\n",
       "2            3  57317.170063  63.108049  8020.953296        0\n",
       "3            4  42709.534201  45.751972  6103.642260        0\n",
       "4            5  66952.688845  18.584336  8770.099235        1\n",
       "...        ...           ...        ...          ...      ...\n",
       "1995      1996  59221.044874  48.518179  1926.729397        0\n",
       "1996      1997  69516.127573  23.162104  3503.176156        0\n",
       "1997      1998  44311.449262  28.017167  5522.786693        1\n",
       "1998      1999  43756.056605  63.971796  1622.722598        0\n",
       "1999      2000  69436.579552  56.152617  7378.833599        0\n",
       "\n",
       "[2000 rows x 5 columns]"
      ]
     },
     "execution_count": 4,
     "metadata": {},
     "output_type": "execute_result"
    }
   ],
   "source": [
    "base_credit"
   ]
  },
  {
   "cell_type": "markdown",
   "metadata": {
    "id": "x23iAAKsQ-iU"
   },
   "source": [
    "### Visualização dos dados"
   ]
  },
  {
   "cell_type": "code",
   "execution_count": 8,
   "metadata": {},
   "outputs": [
    {
     "data": {
      "text/html": [
       "<div>\n",
       "<style scoped>\n",
       "    .dataframe tbody tr th:only-of-type {\n",
       "        vertical-align: middle;\n",
       "    }\n",
       "\n",
       "    .dataframe tbody tr th {\n",
       "        vertical-align: top;\n",
       "    }\n",
       "\n",
       "    .dataframe thead th {\n",
       "        text-align: right;\n",
       "    }\n",
       "</style>\n",
       "<table border=\"1\" class=\"dataframe\">\n",
       "  <thead>\n",
       "    <tr style=\"text-align: right;\">\n",
       "      <th></th>\n",
       "      <th>clientid</th>\n",
       "      <th>income</th>\n",
       "      <th>age</th>\n",
       "      <th>loan</th>\n",
       "      <th>default</th>\n",
       "    </tr>\n",
       "  </thead>\n",
       "  <tbody>\n",
       "    <tr>\n",
       "      <th>0</th>\n",
       "      <td>1</td>\n",
       "      <td>66155.925095</td>\n",
       "      <td>59.017015</td>\n",
       "      <td>8106.532131</td>\n",
       "      <td>0</td>\n",
       "    </tr>\n",
       "    <tr>\n",
       "      <th>1</th>\n",
       "      <td>2</td>\n",
       "      <td>34415.153966</td>\n",
       "      <td>48.117153</td>\n",
       "      <td>6564.745018</td>\n",
       "      <td>0</td>\n",
       "    </tr>\n",
       "  </tbody>\n",
       "</table>\n",
       "</div>"
      ],
      "text/plain": [
       "   clientid        income        age         loan  default\n",
       "0         1  66155.925095  59.017015  8106.532131        0\n",
       "1         2  34415.153966  48.117153  6564.745018        0"
      ]
     },
     "execution_count": 8,
     "metadata": {},
     "output_type": "execute_result"
    }
   ],
   "source": [
    "base_credit.head(2)"
   ]
  },
  {
   "cell_type": "markdown",
   "metadata": {
    "id": "9JL8G9jQXTLF"
   },
   "source": [
    "### Tratamento de valores inconsistentes"
   ]
  },
  {
   "cell_type": "code",
   "execution_count": 10,
   "metadata": {},
   "outputs": [
    {
     "data": {
      "text/html": [
       "<div>\n",
       "<style scoped>\n",
       "    .dataframe tbody tr th:only-of-type {\n",
       "        vertical-align: middle;\n",
       "    }\n",
       "\n",
       "    .dataframe tbody tr th {\n",
       "        vertical-align: top;\n",
       "    }\n",
       "\n",
       "    .dataframe thead th {\n",
       "        text-align: right;\n",
       "    }\n",
       "</style>\n",
       "<table border=\"1\" class=\"dataframe\">\n",
       "  <thead>\n",
       "    <tr style=\"text-align: right;\">\n",
       "      <th></th>\n",
       "      <th>clientid</th>\n",
       "      <th>income</th>\n",
       "      <th>age</th>\n",
       "      <th>loan</th>\n",
       "      <th>default</th>\n",
       "    </tr>\n",
       "  </thead>\n",
       "  <tbody>\n",
       "    <tr>\n",
       "      <th>1998</th>\n",
       "      <td>1999</td>\n",
       "      <td>43756.056605</td>\n",
       "      <td>63.971796</td>\n",
       "      <td>1622.722598</td>\n",
       "      <td>0</td>\n",
       "    </tr>\n",
       "    <tr>\n",
       "      <th>1999</th>\n",
       "      <td>2000</td>\n",
       "      <td>69436.579552</td>\n",
       "      <td>56.152617</td>\n",
       "      <td>7378.833599</td>\n",
       "      <td>0</td>\n",
       "    </tr>\n",
       "  </tbody>\n",
       "</table>\n",
       "</div>"
      ],
      "text/plain": [
       "      clientid        income        age         loan  default\n",
       "1998      1999  43756.056605  63.971796  1622.722598        0\n",
       "1999      2000  69436.579552  56.152617  7378.833599        0"
      ]
     },
     "execution_count": 10,
     "metadata": {},
     "output_type": "execute_result"
    }
   ],
   "source": [
    "base_credit.tail(2)"
   ]
  },
  {
   "cell_type": "code",
   "execution_count": 11,
   "metadata": {},
   "outputs": [
    {
     "data": {
      "text/html": [
       "<div>\n",
       "<style scoped>\n",
       "    .dataframe tbody tr th:only-of-type {\n",
       "        vertical-align: middle;\n",
       "    }\n",
       "\n",
       "    .dataframe tbody tr th {\n",
       "        vertical-align: top;\n",
       "    }\n",
       "\n",
       "    .dataframe thead th {\n",
       "        text-align: right;\n",
       "    }\n",
       "</style>\n",
       "<table border=\"1\" class=\"dataframe\">\n",
       "  <thead>\n",
       "    <tr style=\"text-align: right;\">\n",
       "      <th></th>\n",
       "      <th>clientid</th>\n",
       "      <th>income</th>\n",
       "      <th>age</th>\n",
       "      <th>loan</th>\n",
       "      <th>default</th>\n",
       "    </tr>\n",
       "  </thead>\n",
       "  <tbody>\n",
       "    <tr>\n",
       "      <th>count</th>\n",
       "      <td>2000.000000</td>\n",
       "      <td>2000.000000</td>\n",
       "      <td>1997.000000</td>\n",
       "      <td>2000.000000</td>\n",
       "      <td>2000.000000</td>\n",
       "    </tr>\n",
       "    <tr>\n",
       "      <th>mean</th>\n",
       "      <td>1000.500000</td>\n",
       "      <td>45331.600018</td>\n",
       "      <td>40.807559</td>\n",
       "      <td>4444.369695</td>\n",
       "      <td>0.141500</td>\n",
       "    </tr>\n",
       "    <tr>\n",
       "      <th>std</th>\n",
       "      <td>577.494589</td>\n",
       "      <td>14326.327119</td>\n",
       "      <td>13.624469</td>\n",
       "      <td>3045.410024</td>\n",
       "      <td>0.348624</td>\n",
       "    </tr>\n",
       "    <tr>\n",
       "      <th>min</th>\n",
       "      <td>1.000000</td>\n",
       "      <td>20014.489470</td>\n",
       "      <td>-52.423280</td>\n",
       "      <td>1.377630</td>\n",
       "      <td>0.000000</td>\n",
       "    </tr>\n",
       "    <tr>\n",
       "      <th>25%</th>\n",
       "      <td>500.750000</td>\n",
       "      <td>32796.459717</td>\n",
       "      <td>28.990415</td>\n",
       "      <td>1939.708847</td>\n",
       "      <td>0.000000</td>\n",
       "    </tr>\n",
       "    <tr>\n",
       "      <th>50%</th>\n",
       "      <td>1000.500000</td>\n",
       "      <td>45789.117313</td>\n",
       "      <td>41.317159</td>\n",
       "      <td>3974.719419</td>\n",
       "      <td>0.000000</td>\n",
       "    </tr>\n",
       "    <tr>\n",
       "      <th>75%</th>\n",
       "      <td>1500.250000</td>\n",
       "      <td>57791.281668</td>\n",
       "      <td>52.587040</td>\n",
       "      <td>6432.410625</td>\n",
       "      <td>0.000000</td>\n",
       "    </tr>\n",
       "    <tr>\n",
       "      <th>max</th>\n",
       "      <td>2000.000000</td>\n",
       "      <td>69995.685578</td>\n",
       "      <td>63.971796</td>\n",
       "      <td>13766.051239</td>\n",
       "      <td>1.000000</td>\n",
       "    </tr>\n",
       "  </tbody>\n",
       "</table>\n",
       "</div>"
      ],
      "text/plain": [
       "          clientid        income          age          loan      default\n",
       "count  2000.000000   2000.000000  1997.000000   2000.000000  2000.000000\n",
       "mean   1000.500000  45331.600018    40.807559   4444.369695     0.141500\n",
       "std     577.494589  14326.327119    13.624469   3045.410024     0.348624\n",
       "min       1.000000  20014.489470   -52.423280      1.377630     0.000000\n",
       "25%     500.750000  32796.459717    28.990415   1939.708847     0.000000\n",
       "50%    1000.500000  45789.117313    41.317159   3974.719419     0.000000\n",
       "75%    1500.250000  57791.281668    52.587040   6432.410625     0.000000\n",
       "max    2000.000000  69995.685578    63.971796  13766.051239     1.000000"
      ]
     },
     "execution_count": 11,
     "metadata": {},
     "output_type": "execute_result"
    }
   ],
   "source": [
    "base_credit.describe()"
   ]
  },
  {
   "cell_type": "code",
   "execution_count": 16,
   "metadata": {},
   "outputs": [
    {
     "data": {
      "text/html": [
       "<div>\n",
       "<style scoped>\n",
       "    .dataframe tbody tr th:only-of-type {\n",
       "        vertical-align: middle;\n",
       "    }\n",
       "\n",
       "    .dataframe tbody tr th {\n",
       "        vertical-align: top;\n",
       "    }\n",
       "\n",
       "    .dataframe thead th {\n",
       "        text-align: right;\n",
       "    }\n",
       "</style>\n",
       "<table border=\"1\" class=\"dataframe\">\n",
       "  <thead>\n",
       "    <tr style=\"text-align: right;\">\n",
       "      <th></th>\n",
       "      <th>clientid</th>\n",
       "      <th>income</th>\n",
       "      <th>age</th>\n",
       "      <th>loan</th>\n",
       "      <th>default</th>\n",
       "    </tr>\n",
       "  </thead>\n",
       "  <tbody>\n",
       "    <tr>\n",
       "      <th>1378</th>\n",
       "      <td>1379</td>\n",
       "      <td>69755.320163</td>\n",
       "      <td>44.543682</td>\n",
       "      <td>13766.051239</td>\n",
       "      <td>0</td>\n",
       "    </tr>\n",
       "  </tbody>\n",
       "</table>\n",
       "</div>"
      ],
      "text/plain": [
       "      clientid        income        age          loan  default\n",
       "1378      1379  69755.320163  44.543682  13766.051239        0"
      ]
     },
     "execution_count": 16,
     "metadata": {},
     "output_type": "execute_result"
    }
   ],
   "source": [
    "base_credit[base_credit['loan'] >= 13766.051239]"
   ]
  },
  {
   "cell_type": "markdown",
   "metadata": {},
   "source": [
    "# Visualizaçao de odados"
   ]
  },
  {
   "cell_type": "code",
   "execution_count": 17,
   "metadata": {},
   "outputs": [
    {
     "data": {
      "text/plain": [
       "(array([0, 1], dtype=int64), array([1717,  283], dtype=int64))"
      ]
     },
     "execution_count": 17,
     "metadata": {},
     "output_type": "execute_result"
    }
   ],
   "source": [
    "np.unique(base_credit['default'], return_counts=True)\n"
   ]
  },
  {
   "cell_type": "code",
   "execution_count": 18,
   "metadata": {},
   "outputs": [
    {
     "data": {
      "image/png": "[encoded data removed]",
      "text/plain": [
       "<Figure size 432x288 with 1 Axes>"
      ]
     },
     "metadata": {
      "needs_background": "light"
     },
     "output_type": "display_data"
    }
   ],
   "source": []
  },
  {
   "cell_type": "code",
   "execution_count": 20,
   "metadata": {},
   "outputs": [
    {
     "data": {
      "image/png": "[encoded data removed]",
      "text/plain": [
       "<Figure size 432x288 with 1 Axes>"
      ]
     },
     "metadata": {
      "needs_background": "light"
     },
     "output_type": "display_data"
    }
   ],
   "source": [
    "plt.hist(x=base_credit['age']);"
   ]
  },
  {
   "cell_type": "code",
   "execution_count": 22,
   "metadata": {},
   "outputs": [
    {
     "data": {
      "image/png": "[encoded data removed]",
      "text/plain": [
       "<Figure size 432x288 with 1 Axes>"
      ]
     },
     "metadata": {
      "needs_background": "light"
     },
     "output_type": "display_data"
    }
   ],
   "source": [
    "plt.hist(x=base_credit['income']);"
   ]
  },
  {
   "cell_type": "markdown",
   "metadata": {
    "id": "JpDM1Er1obkO"
   },
   "source": [
    "### Tratamento de valores faltantes"
   ]
  },
  {
   "cell_type": "markdown",
   "metadata": {
    "id": "cOSLRdDEsWFx"
   },
   "source": [
    "### Divisão entre previsores e classe"
   ]
  },
  {
   "cell_type": "markdown",
   "metadata": {
    "id": "S_jbxLwqu4fQ"
   },
   "source": [
    "### Escalonamento dos valores"
   ]
  },
  {
   "cell_type": "markdown",
   "metadata": {
    "id": "uObPYCYDkBAV"
   },
   "source": [
    "# Base de dados do censo\n",
    "\n",
    "- Fonte: https://archive.ics.uci.edu/ml/datasets/adult"
   ]
  },
  {
   "cell_type": "markdown",
   "metadata": {
    "id": "g-23aN-nkDQ7"
   },
   "source": [
    "## Exploração dos dados"
   ]
  },
  {
   "cell_type": "markdown",
   "metadata": {
    "id": "zr9S1fZXRQhg"
   },
   "source": [
    "## Visualização dos dados"
   ]
  },
  {
   "cell_type": "markdown",
   "metadata": {
    "id": "2GpcvTQauTVx"
   },
   "source": [
    "## Divisão entre previsores e classe"
   ]
  },
  {
   "cell_type": "markdown",
   "metadata": {
    "id": "QGapZ37jkPAn"
   },
   "source": [
    "## Tratamento de atributos categóricos"
   ]
  },
  {
   "cell_type": "markdown",
   "metadata": {
    "id": "K2K3Wu8Q4e0E"
   },
   "source": [
    "### LabelEncoder"
   ]
  },
  {
   "cell_type": "code",
   "execution_count": null,
   "metadata": {
    "id": "oGz8K4uwWdGO"
   },
   "outputs": [],
   "source": [
    "from sklearn.preprocessing import LabelEncoder"
   ]
  },
  {
   "cell_type": "markdown",
   "metadata": {
    "id": "mHg2BXJR4hpi"
   },
   "source": [
    "### OneHotEncoder"
   ]
  },
  {
   "cell_type": "markdown",
   "metadata": {
    "id": "bdNbsNLFkWop"
   },
   "source": [
    "## Escalonamento dos valores"
   ]
  },
  {
   "cell_type": "markdown",
   "metadata": {
    "id": "NBXkHsxg6tcI"
   },
   "source": [
    "# Divisão das bases em treinamento e teste"
   ]
  },
  {
   "cell_type": "markdown",
   "metadata": {
    "id": "q_KOjDv47-IV"
   },
   "source": [
    "## Credit data"
   ]
  },
  {
   "cell_type": "markdown",
   "metadata": {
    "id": "zAecbXOi8AzA"
   },
   "source": [
    "## Census"
   ]
  },
  {
   "cell_type": "markdown",
   "metadata": {
    "id": "Oi9qbert8aMv"
   },
   "source": [
    "## Salvar as variáveis"
   ]
  },
  {
   "cell_type": "markdown",
   "metadata": {
    "id": "zX-Vgf6TnLnc"
   },
   "source": [
    "# Naïve Bayes"
   ]
  },
  {
   "cell_type": "markdown",
   "metadata": {
    "id": "L0FGtQLrnN-0"
   },
   "source": [
    "## Base risco de crédito"
   ]
  },
  {
   "cell_type": "markdown",
   "metadata": {
    "id": "lmXN77tcnP2v"
   },
   "source": [
    "## Base credit data - 93.80%"
   ]
  },
  {
   "cell_type": "markdown",
   "metadata": {
    "id": "lnC-s4bLnRmt"
   },
   "source": [
    "## Base census - 47.67%"
   ]
  },
  {
   "cell_type": "markdown",
   "metadata": {
    "id": "DjUu9ktyU4__"
   },
   "source": [
    "# Árvores de decisão"
   ]
  },
  {
   "cell_type": "markdown",
   "metadata": {
    "id": "PfnUWv8SU7ST"
   },
   "source": [
    "## Base risco de crédito"
   ]
  },
  {
   "cell_type": "markdown",
   "metadata": {
    "id": "TOCiDpHFU90w"
   },
   "source": [
    "## Base credit data - 98.20%"
   ]
  },
  {
   "cell_type": "markdown",
   "metadata": {
    "id": "sISIfqL0U_ss"
   },
   "source": [
    "## Base census - 81.04%"
   ]
  },
  {
   "cell_type": "markdown",
   "metadata": {
    "id": "BOPQLz28jDi7"
   },
   "source": [
    "# Random Forest"
   ]
  },
  {
   "cell_type": "markdown",
   "metadata": {
    "id": "ZO-c0InojFK5"
   },
   "source": [
    "## Base credit data - 98.40%"
   ]
  },
  {
   "cell_type": "markdown",
   "metadata": {
    "id": "0bLyVMFrjGzm"
   },
   "source": [
    "## Base census - 85.07%"
   ]
  },
  {
   "cell_type": "markdown",
   "metadata": {
    "id": "h8ZVuJ-VDE8h"
   },
   "source": [
    "# Regras"
   ]
  },
  {
   "cell_type": "code",
   "execution_count": null,
   "metadata": {
    "id": "cVoUs1jvExRJ"
   },
   "outputs": [],
   "source": [
    "import Orange"
   ]
  },
  {
   "cell_type": "markdown",
   "metadata": {
    "id": "4gUvxQ_wDGt4"
   },
   "source": [
    "## Base risco de crédito"
   ]
  },
  {
   "cell_type": "markdown",
   "metadata": {
    "id": "SN9q4qQiDIsi"
   },
   "source": [
    "## Base credit data - 97.40%"
   ]
  },
  {
   "cell_type": "markdown",
   "metadata": {
    "id": "0v5iHxzcNPNK"
   },
   "source": [
    "# Classificador base - Majority learner"
   ]
  },
  {
   "cell_type": "markdown",
   "metadata": {
    "id": "TWW4JhkLNS0t"
   },
   "source": [
    "## Base credit data - 85.85%"
   ]
  },
  {
   "cell_type": "markdown",
   "metadata": {
    "id": "e6tDYDLUNUWH"
   },
   "source": [
    "## Base census - 75.91%"
   ]
  },
  {
   "cell_type": "markdown",
   "metadata": {
    "id": "_lPLnCYVTQGk"
   },
   "source": [
    "# Aprendizagem baseada em instâncias - knn"
   ]
  },
  {
   "cell_type": "markdown",
   "metadata": {
    "id": "oVZ33-HhTUcV"
   },
   "source": [
    "## Base credit data - 98.60%"
   ]
  },
  {
   "cell_type": "markdown",
   "metadata": {
    "id": "y5tg1RPDTWPu"
   },
   "source": [
    "## Base census - 82.90%"
   ]
  },
  {
   "cell_type": "markdown",
   "metadata": {
    "id": "7q-aePyAQIcY"
   },
   "source": [
    "# Regressão logística"
   ]
  },
  {
   "cell_type": "markdown",
   "metadata": {
    "id": "wfNpnNK8QKut"
   },
   "source": [
    "## Base risco de crédito"
   ]
  },
  {
   "cell_type": "markdown",
   "metadata": {
    "id": "v4BNXREgQM5G"
   },
   "source": [
    "## Base credit data - 94.60%"
   ]
  },
  {
   "cell_type": "markdown",
   "metadata": {
    "id": "HsYao96MQOd0"
   },
   "source": [
    "## Base census - 84.95%"
   ]
  },
  {
   "cell_type": "markdown",
   "metadata": {
    "id": "IMKqPBZ0ZXHc"
   },
   "source": [
    "# SVM"
   ]
  },
  {
   "cell_type": "markdown",
   "metadata": {
    "id": "_l47QkKfZYYX"
   },
   "source": [
    "## Base credit data - 98.80%"
   ]
  },
  {
   "cell_type": "markdown",
   "metadata": {
    "id": "IDcs56b6ZZ-o"
   },
   "source": [
    "## Base census - 85.07%"
   ]
  },
  {
   "cell_type": "markdown",
   "metadata": {
    "id": "fSNUSSeOhqAd"
   },
   "source": [
    "# Redes neurais artificiais"
   ]
  },
  {
   "cell_type": "markdown",
   "metadata": {
    "id": "foQGPam1hrwG"
   },
   "source": [
    "## Base credit data - 99.80%"
   ]
  },
  {
   "cell_type": "markdown",
   "metadata": {
    "id": "wBeiHfvihtMZ"
   },
   "source": [
    "## Base census - 81.53%"
   ]
  },
  {
   "cell_type": "markdown",
   "metadata": {
    "id": "hzQjXv11xXiV"
   },
   "source": [
    "# Avaliação dos algoritmos\n",
    "\n",
    "- Naïve Bayes: 93.80\n",
    "- Árvore de decisão: 98.20\n",
    "- Random forest: 98.40\n",
    "- Regras: 97.40\n",
    "- Knn: 98.60\n",
    "- Regressão logística: 94.60\n",
    "- SVM: 98.80\n",
    "- Redes neurais: 99.60"
   ]
  },
  {
   "cell_type": "markdown",
   "metadata": {
    "id": "xZ7xQAHIxbYS"
   },
   "source": [
    "## Tuning dos parâmetros com GridSearch"
   ]
  },
  {
   "cell_type": "markdown",
   "metadata": {
    "id": "ccUPFWrYxemd"
   },
   "source": [
    "### Preparação dos dados"
   ]
  },
  {
   "cell_type": "markdown",
   "metadata": {
    "id": "TEC2nX_Bxgxb"
   },
   "source": [
    "### Árvore de decisão"
   ]
  },
  {
   "cell_type": "markdown",
   "metadata": {
    "id": "iDFqhYqqxi0a"
   },
   "source": [
    "### Random forest"
   ]
  },
  {
   "cell_type": "markdown",
   "metadata": {
    "id": "V2ukErzdxkYV"
   },
   "source": [
    "### Knn"
   ]
  },
  {
   "cell_type": "markdown",
   "metadata": {
    "id": "Sg1nw3UtxleM"
   },
   "source": [
    "### Regressão logística"
   ]
  },
  {
   "cell_type": "markdown",
   "metadata": {
    "id": "Y25eVjAqCtUh"
   },
   "source": [
    "### SVM"
   ]
  },
  {
   "cell_type": "markdown",
   "metadata": {
    "id": "cNZmpXyaxpsE"
   },
   "source": [
    "## Validação cruzada"
   ]
  },
  {
   "cell_type": "markdown",
   "metadata": {
    "id": "64STDoeYxrx8"
   },
   "source": [
    "## Teste de normalidade nos resultados\n",
    "\n",
    "- Shapiro: https://en.wikipedia.org/wiki/Shapiro%E2%80%93Wilk_test"
   ]
  },
  {
   "cell_type": "markdown",
   "metadata": {
    "id": "YKu3nItjxuy-"
   },
   "source": [
    "## Teste de hipótese com ANOVA e Tukey"
   ]
  },
  {
   "cell_type": "markdown",
   "metadata": {
    "id": "wo_FnyqZdSHP"
   },
   "source": [
    "# Salvar um classificador já treinado"
   ]
  },
  {
   "cell_type": "markdown",
   "metadata": {
    "id": "IE2LDIuAdVf2"
   },
   "source": [
    "# Carregar um classificador já treinado"
   ]
  },
  {
   "cell_type": "markdown",
   "metadata": {
    "id": "D8SRPAsJmEs3"
   },
   "source": [
    "# Combinação de classificadores"
   ]
  },
  {
   "cell_type": "markdown",
   "metadata": {
    "id": "b0PwlVawUlYk"
   },
   "source": [
    "# Redução de dimensionalidade"
   ]
  },
  {
   "cell_type": "markdown",
   "metadata": {
    "id": "5B4KH9_YVrmQ"
   },
   "source": [
    "## Preparacão da base de dados"
   ]
  },
  {
   "cell_type": "markdown",
   "metadata": {
    "id": "6OurC4GyUoak"
   },
   "source": [
    "## PCA (Principal component analysis)"
   ]
  },
  {
   "cell_type": "markdown",
   "metadata": {
    "id": "2UhdSgBmUtJ6"
   },
   "source": [
    "## Kernel PCA"
   ]
  },
  {
   "cell_type": "markdown",
   "metadata": {
    "id": "EGBZZwK2UyK7"
   },
   "source": [
    "## LDA (Linear discriminant analysis)"
   ]
  },
  {
   "cell_type": "markdown",
   "metadata": {
    "id": "lAN9s6MVGCcV"
   },
   "source": [
    "# Detecção de outliers"
   ]
  },
  {
   "cell_type": "markdown",
   "metadata": {
    "id": "N7LsjcpzGFpq"
   },
   "source": [
    "## Boxplot"
   ]
  },
  {
   "cell_type": "markdown",
   "metadata": {
    "id": "PM7UI73tGHjP"
   },
   "source": [
    "## Gráfico de dispersão"
   ]
  },
  {
   "cell_type": "markdown",
   "metadata": {
    "id": "wsy_nrrGGKu9"
   },
   "source": [
    "## Biblioteca PyOD\n",
    "\n",
    "- Documentação: https://pyod.readthedocs.io/en/latest/#"
   ]
  }
 ],
 "metadata": {
  "colab": {
   "collapsed_sections": [
    "9JL8G9jQXTLF",
    "JpDM1Er1obkO",
    "cOSLRdDEsWFx",
    "S_jbxLwqu4fQ",
    "g-23aN-nkDQ7",
    "zr9S1fZXRQhg",
    "2GpcvTQauTVx",
    "QGapZ37jkPAn",
    "K2K3Wu8Q4e0E",
    "mHg2BXJR4hpi",
    "bdNbsNLFkWop",
    "q_KOjDv47-IV",
    "zAecbXOi8AzA",
    "Oi9qbert8aMv",
    "L0FGtQLrnN-0",
    "lmXN77tcnP2v",
    "lnC-s4bLnRmt",
    "PfnUWv8SU7ST",
    "TOCiDpHFU90w",
    "ZO-c0InojFK5",
    "0bLyVMFrjGzm",
    "h8ZVuJ-VDE8h",
    "SN9q4qQiDIsi",
    "0v5iHxzcNPNK",
    "e6tDYDLUNUWH"
   ],
   "include_colab_link": true,
   "name": "hcca_01_ML_DS_Python_classificacao.ipynb",
   "provenance": []
  },
  "kernelspec": {
   "display_name": "Python 3 (ipykernel)",
   "language": "python",
   "name": "python3"
  },
  "language_info": {
   "codemirror_mode": {
    "name": "ipython",
    "version": 3
   },
   "file_extension": ".py",
   "mimetype": "text/x-python",
   "name": "python",
   "nbconvert_exporter": "python",
   "pygments_lexer": "ipython3",
   "version": "3.9.12"
  }
 },
 "nbformat": 4,
 "nbformat_minor": 1
}
