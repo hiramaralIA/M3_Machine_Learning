{
 "cells": [
  {
   "cell_type": "markdown",
   "id": "6d3800f3",
   "metadata": {},
   "source": [
    "# Machine Learning e Data Science com Python (Classificaçao)"
   ]
  },
  {
   "cell_type": "markdown",
   "id": "10d6ee5a",
   "metadata": {},
   "source": [
    "# Importação das bibliotecas básicas"
   ]
  },
  {
   "cell_type": "code",
   "execution_count": 3,
   "id": "ef0bdeb9",
   "metadata": {},
   "outputs": [],
   "source": [
    "!pip -q install plotly --upgrade"
   ]
  },
  {
   "cell_type": "code",
   "execution_count": 6,
   "id": "95fba555",
   "metadata": {},
   "outputs": [],
   "source": [
    "!pip -q install yellowbrick"
   ]
  },
  {
   "cell_type": "code",
   "execution_count": 5,
   "id": "d79b084b",
   "metadata": {},
   "outputs": [],
   "source": [
    "import pandas as pd\n",
    "import numpy as np\n",
    "import seaborn as sns\n",
    "import matplotlib.pyplot as plt\n",
    "import plotly.express as px"
   ]
  },
  {
   "cell_type": "markdown",
   "id": "346bc81a",
   "metadata": {},
   "source": [
    "# Base de dados de crédito\n",
    "\n",
    "- Fonte (adaptado): https://www.kaggle.com/laotse/credit-risk-dataset"
   ]
  },
  {
   "cell_type": "code",
   "execution_count": 1,
   "id": "c2a4a2ec",
   "metadata": {},
   "outputs": [
    {
     "ename": "ModuleNotFoundError",
     "evalue": "No module named 'google.colab'",
     "output_type": "error",
     "traceback": [
      "\u001b[1;31m---------------------------------------------------------------------------\u001b[0m",
      "\u001b[1;31mModuleNotFoundError\u001b[0m                       Traceback (most recent call last)",
      "Input \u001b[1;32mIn [1]\u001b[0m, in \u001b[0;36m<cell line: 1>\u001b[1;34m()\u001b[0m\n\u001b[1;32m----> 1\u001b[0m \u001b[38;5;28;01mfrom\u001b[39;00m \u001b[38;5;21;01mgoogle\u001b[39;00m\u001b[38;5;21;01m.\u001b[39;00m\u001b[38;5;21;01mcolab\u001b[39;00m \u001b[38;5;28;01mimport\u001b[39;00m drive\n\u001b[0;32m      2\u001b[0m drive\u001b[38;5;241m.\u001b[39mmount(\u001b[38;5;124m'\u001b[39m\u001b[38;5;124m/content/drive\u001b[39m\u001b[38;5;124m'\u001b[39m)\n",
      "\u001b[1;31mModuleNotFoundError\u001b[0m: No module named 'google.colab'"
     ]
    }
   ],
   "source": [
    "from google.colab import drive\n",
    "drive.mount('/content/drive')"
   ]
  },
  {
   "cell_type": "code",
   "execution_count": null,
   "id": "7a05b492",
   "metadata": {},
   "outputs": [],
   "source": []
  }
 ],
 "metadata": {
  "kernelspec": {
   "display_name": "Python 3 (ipykernel)",
   "language": "python",
   "name": "python3"
  },
  "language_info": {
   "codemirror_mode": {
    "name": "ipython",
    "version": 3
   },
   "file_extension": ".py",
   "mimetype": "text/x-python",
   "name": "python",
   "nbconvert_exporter": "python",
   "pygments_lexer": "ipython3",
   "version": "3.9.12"
  }
 },
 "nbformat": 4,
 "nbformat_minor": 5
}
